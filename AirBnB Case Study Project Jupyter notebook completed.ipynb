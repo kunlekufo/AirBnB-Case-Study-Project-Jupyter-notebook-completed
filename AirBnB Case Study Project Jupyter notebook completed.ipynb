{
 "cells": [
  {
   "cell_type": "markdown",
   "metadata": {},
   "source": [
    "# AirBnB NY Locations Data Case Study\n",
    "\n",
    "In this final project, you task will be to take the data provided and find evidance to answer the following questions.\n",
    "\n",
    "1. Which hosts are the busiest and why?\n",
    "2. How many neighborhood groups are available and which shows up the most?\n",
    "3. Are private rooms the most popular in manhattan?\n",
    "4. Which hosts are the busiest and based on their reviews?\n",
    "5. Which neighorhood group has the highest average price?\n",
    "6. Which neighborhood group has the highest total price?\n",
    "7. Which top 5 hosts have the highest total price?\n",
    "8. Who currently has no (zero) availability with a review count of 100 or more?\n",
    "9. What host has the highest total of prices and where are they located?\n",
    "10. When did Danielle from Queens last receive a review?\n",
    "\n",
    "You will be given **4 hours** to complete this assignment. \n",
    "**Be Advised** I will go dark for this intire assignment time period. That said, any questions that you would like to ask about the data, or the project **MUST** be asked before the time starts. Once the time has started, I can no longer give information.\n",
    "\n",
    "This is to similate what you will face when you are out in the wild. \n",
    "\n",
    "Happy Coding!"
   ]
  },
  {
   "cell_type": "code",
   "execution_count": 96,
   "metadata": {},
   "outputs": [],
   "source": [
    "import numpy as np\n",
    "import pandas as pd\n",
    "import matplotlib.pyplot as plt"
   ]
  },
  {
   "cell_type": "code",
   "execution_count": 8,
   "metadata": {},
   "outputs": [
    {
     "data": {
      "text/html": [
       "<div>\n",
       "<style scoped>\n",
       "    .dataframe tbody tr th:only-of-type {\n",
       "        vertical-align: middle;\n",
       "    }\n",
       "\n",
       "    .dataframe tbody tr th {\n",
       "        vertical-align: top;\n",
       "    }\n",
       "\n",
       "    .dataframe thead th {\n",
       "        text-align: right;\n",
       "    }\n",
       "</style>\n",
       "<table border=\"1\" class=\"dataframe\">\n",
       "  <thead>\n",
       "    <tr style=\"text-align: right;\">\n",
       "      <th></th>\n",
       "      <th>id</th>\n",
       "      <th>name</th>\n",
       "      <th>host_id</th>\n",
       "      <th>host_name</th>\n",
       "      <th>neighbourhood_group</th>\n",
       "      <th>neighbourhood</th>\n",
       "      <th>latitude</th>\n",
       "      <th>longitude</th>\n",
       "      <th>room_type</th>\n",
       "      <th>price</th>\n",
       "      <th>minimum_nights</th>\n",
       "      <th>number_of_reviews</th>\n",
       "      <th>last_review</th>\n",
       "      <th>reviews_per_month</th>\n",
       "      <th>calculated_host_listings_count</th>\n",
       "      <th>availability_365</th>\n",
       "    </tr>\n",
       "  </thead>\n",
       "  <tbody>\n",
       "    <tr>\n",
       "      <th>0</th>\n",
       "      <td>2539</td>\n",
       "      <td>Clean &amp; quiet apt home by the park</td>\n",
       "      <td>2787</td>\n",
       "      <td>John</td>\n",
       "      <td>Brooklyn</td>\n",
       "      <td>Kensington</td>\n",
       "      <td>40.64749</td>\n",
       "      <td>-73.97237</td>\n",
       "      <td>Private room</td>\n",
       "      <td>149</td>\n",
       "      <td>1</td>\n",
       "      <td>9</td>\n",
       "      <td>2018-10-19</td>\n",
       "      <td>0.21</td>\n",
       "      <td>6</td>\n",
       "      <td>365</td>\n",
       "    </tr>\n",
       "    <tr>\n",
       "      <th>1</th>\n",
       "      <td>2595</td>\n",
       "      <td>Skylit Midtown Castle</td>\n",
       "      <td>2845</td>\n",
       "      <td>Jennifer</td>\n",
       "      <td>Manhattan</td>\n",
       "      <td>Midtown</td>\n",
       "      <td>40.75362</td>\n",
       "      <td>-73.98377</td>\n",
       "      <td>Entire home/apt</td>\n",
       "      <td>225</td>\n",
       "      <td>1</td>\n",
       "      <td>45</td>\n",
       "      <td>2019-05-21</td>\n",
       "      <td>0.38</td>\n",
       "      <td>2</td>\n",
       "      <td>355</td>\n",
       "    </tr>\n",
       "    <tr>\n",
       "      <th>2</th>\n",
       "      <td>3647</td>\n",
       "      <td>THE VILLAGE OF HARLEM....NEW YORK !</td>\n",
       "      <td>4632</td>\n",
       "      <td>Elisabeth</td>\n",
       "      <td>Manhattan</td>\n",
       "      <td>Harlem</td>\n",
       "      <td>40.80902</td>\n",
       "      <td>-73.94190</td>\n",
       "      <td>Private room</td>\n",
       "      <td>150</td>\n",
       "      <td>3</td>\n",
       "      <td>0</td>\n",
       "      <td>NaN</td>\n",
       "      <td>NaN</td>\n",
       "      <td>1</td>\n",
       "      <td>365</td>\n",
       "    </tr>\n",
       "    <tr>\n",
       "      <th>3</th>\n",
       "      <td>3831</td>\n",
       "      <td>Cozy Entire Floor of Brownstone</td>\n",
       "      <td>4869</td>\n",
       "      <td>LisaRoxanne</td>\n",
       "      <td>Brooklyn</td>\n",
       "      <td>Clinton Hill</td>\n",
       "      <td>40.68514</td>\n",
       "      <td>-73.95976</td>\n",
       "      <td>Entire home/apt</td>\n",
       "      <td>89</td>\n",
       "      <td>1</td>\n",
       "      <td>270</td>\n",
       "      <td>2019-07-05</td>\n",
       "      <td>4.64</td>\n",
       "      <td>1</td>\n",
       "      <td>194</td>\n",
       "    </tr>\n",
       "    <tr>\n",
       "      <th>4</th>\n",
       "      <td>5022</td>\n",
       "      <td>Entire Apt: Spacious Studio/Loft by central park</td>\n",
       "      <td>7192</td>\n",
       "      <td>Laura</td>\n",
       "      <td>Manhattan</td>\n",
       "      <td>East Harlem</td>\n",
       "      <td>40.79851</td>\n",
       "      <td>-73.94399</td>\n",
       "      <td>Entire home/apt</td>\n",
       "      <td>80</td>\n",
       "      <td>10</td>\n",
       "      <td>9</td>\n",
       "      <td>2018-11-19</td>\n",
       "      <td>0.10</td>\n",
       "      <td>1</td>\n",
       "      <td>0</td>\n",
       "    </tr>\n",
       "  </tbody>\n",
       "</table>\n",
       "</div>"
      ],
      "text/plain": [
       "     id                                              name  host_id  \\\n",
       "0  2539                Clean & quiet apt home by the park     2787   \n",
       "1  2595                             Skylit Midtown Castle     2845   \n",
       "2  3647               THE VILLAGE OF HARLEM....NEW YORK !     4632   \n",
       "3  3831                   Cozy Entire Floor of Brownstone     4869   \n",
       "4  5022  Entire Apt: Spacious Studio/Loft by central park     7192   \n",
       "\n",
       "     host_name neighbourhood_group neighbourhood  latitude  longitude  \\\n",
       "0         John            Brooklyn    Kensington  40.64749  -73.97237   \n",
       "1     Jennifer           Manhattan       Midtown  40.75362  -73.98377   \n",
       "2    Elisabeth           Manhattan        Harlem  40.80902  -73.94190   \n",
       "3  LisaRoxanne            Brooklyn  Clinton Hill  40.68514  -73.95976   \n",
       "4        Laura           Manhattan   East Harlem  40.79851  -73.94399   \n",
       "\n",
       "         room_type  price  minimum_nights  number_of_reviews last_review  \\\n",
       "0     Private room    149               1                  9  2018-10-19   \n",
       "1  Entire home/apt    225               1                 45  2019-05-21   \n",
       "2     Private room    150               3                  0         NaN   \n",
       "3  Entire home/apt     89               1                270  2019-07-05   \n",
       "4  Entire home/apt     80              10                  9  2018-11-19   \n",
       "\n",
       "   reviews_per_month  calculated_host_listings_count  availability_365  \n",
       "0               0.21                               6               365  \n",
       "1               0.38                               2               355  \n",
       "2                NaN                               1               365  \n",
       "3               4.64                               1               194  \n",
       "4               0.10                               1                 0  "
      ]
     },
     "execution_count": 8,
     "metadata": {},
     "output_type": "execute_result"
    }
   ],
   "source": [
    "air_bnb = pd.read_csv('files/AB_NYC_2019.csv')\n",
    "air_bnb.head()"
   ]
  },
  {
   "cell_type": "code",
   "execution_count": 1,
   "metadata": {},
   "outputs": [
    {
     "name": "stdout",
     "output_type": "stream",
     "text": [
      "Number of neighborhood groups: 5\n",
      "Neighborhood groups and their frequencies:\n",
      "neighbourhood_group\n",
      "Manhattan        21661\n",
      "Brooklyn         20104\n",
      "Queens            5666\n",
      "Bronx             1091\n",
      "Staten Island      373\n",
      "Name: count, dtype: int64\n"
     ]
    }
   ],
   "source": [
    "# How many neighborhood groups are available and which shows up the most?\n",
    "import pandas as pd\n",
    "\n",
    "# Load the dataset\n",
    "df = pd.read_csv('AB_NYC_2019 - AB_NYC_2019.csv')\n",
    "\n",
    "# Count the occurrences of each neighborhood group\n",
    "neighborhood_counts = df['neighbourhood_group'].value_counts()\n",
    "\n",
    "# Display the result\n",
    "print(\"Number of neighborhood groups:\", len(neighborhood_counts))\n",
    "print(\"Neighborhood groups and their frequencies:\")\n",
    "print(neighborhood_counts)\n",
    "\n",
    "\n"
   ]
  },
  {
   "cell_type": "code",
   "execution_count": 11,
   "metadata": {},
   "outputs": [
    {
     "name": "stdout",
     "output_type": "stream",
     "text": [
      "Requirement already satisfied: seaborn in c:\\users\\kunle kuforiji\\anaconda3\\lib\\site-packages (0.13.0)\n",
      "Requirement already satisfied: matplotlib in c:\\users\\kunle kuforiji\\anaconda3\\lib\\site-packages (3.8.1)\n",
      "Requirement already satisfied: numpy!=1.24.0,>=1.20 in c:\\users\\kunle kuforiji\\anaconda3\\lib\\site-packages (from seaborn) (1.26.0)\n",
      "Requirement already satisfied: pandas>=1.2 in c:\\users\\kunle kuforiji\\anaconda3\\lib\\site-packages (from seaborn) (2.0.3)\n",
      "Requirement already satisfied: contourpy>=1.0.1 in c:\\users\\kunle kuforiji\\anaconda3\\lib\\site-packages (from matplotlib) (1.0.5)\n",
      "Requirement already satisfied: cycler>=0.10 in c:\\users\\kunle kuforiji\\anaconda3\\lib\\site-packages (from matplotlib) (0.12.1)\n",
      "Requirement already satisfied: fonttools>=4.22.0 in c:\\users\\kunle kuforiji\\anaconda3\\lib\\site-packages (from matplotlib) (4.44.0)\n",
      "Requirement already satisfied: kiwisolver>=1.3.1 in c:\\users\\kunle kuforiji\\anaconda3\\lib\\site-packages (from matplotlib) (1.4.5)\n",
      "Requirement already satisfied: packaging>=20.0 in c:\\users\\kunle kuforiji\\appdata\\roaming\\python\\python311\\site-packages (from matplotlib) (23.1)\n",
      "Requirement already satisfied: pillow>=8 in c:\\users\\kunle kuforiji\\anaconda3\\lib\\site-packages (from matplotlib) (9.4.0)\n",
      "Requirement already satisfied: pyparsing>=2.3.1 in c:\\users\\kunle kuforiji\\anaconda3\\lib\\site-packages (from matplotlib) (3.1.1)\n",
      "Requirement already satisfied: python-dateutil>=2.7 in c:\\users\\kunle kuforiji\\appdata\\roaming\\python\\python311\\site-packages (from matplotlib) (2.8.2)\n",
      "Requirement already satisfied: pytz>=2020.1 in c:\\users\\kunle kuforiji\\anaconda3\\lib\\site-packages (from pandas>=1.2->seaborn) (2023.3.post1)\n",
      "Requirement already satisfied: tzdata>=2022.1 in c:\\users\\kunle kuforiji\\anaconda3\\lib\\site-packages (from pandas>=1.2->seaborn) (2023.3)\n",
      "Requirement already satisfied: six>=1.5 in c:\\users\\kunle kuforiji\\appdata\\roaming\\python\\python311\\site-packages (from python-dateutil>=2.7->matplotlib) (1.16.0)\n"
     ]
    },
    {
     "data": {
      "image/png": "[encoded data removed]",
      "text/plain": [
       "<Figure size 1000x600 with 1 Axes>"
      ]
     },
     "metadata": {},
     "output_type": "display_data"
    },
    {
     "name": "stdout",
     "output_type": "stream",
     "text": [
      "By the virtual display private rooms are not the most popular in Manhattan\n"
     ]
    }
   ],
   "source": [
    "# Are private rooms the most popular in manhattan?\n",
    "!pip install seaborn matplotlib\n",
    "import seaborn as sns\n",
    "import matplotlib.pyplot as plt\n",
    "\n",
    "# Make sure to provide the correct path to your dataset\n",
    "df = pd.read_csv('AB_NYC_2019 - AB_NYC_2019.csv')\n",
    "\n",
    "\n",
    "manhattan_df = df[df['neighbourhood_group'] == 'Manhattan']\n",
    "room_type_counts = manhattan_df['room_type'].value_counts()\n",
    "plt.figure(figsize=(10, 6))\n",
    "sns.barplot(x=room_type_counts.index, y=room_type_counts.values)\n",
    "plt.title('Distribution of Room Types in Manhattan')\n",
    "plt.xlabel('Room Type')\n",
    "plt.ylabel('Number of Listings')\n",
    "plt.show()\n",
    "print(\"By the virtual display private rooms are not the most popular in Manhattan\")\n",
    "\n",
    "\n",
    "\n",
    "\n"
   ]
  },
  {
   "cell_type": "code",
   "execution_count": 31,
   "metadata": {},
   "outputs": [
    {
     "name": "stdout",
     "output_type": "stream",
     "text": [
      "     id                                              name  host_id  \\\n",
      "0  2539                Clean & quiet apt home by the park     2787   \n",
      "1  2595                             Skylit Midtown Castle     2845   \n",
      "2  3647               THE VILLAGE OF HARLEM....NEW YORK !     4632   \n",
      "3  3831                   Cozy Entire Floor of Brownstone     4869   \n",
      "4  5022  Entire Apt: Spacious Studio/Loft by central park     7192   \n",
      "\n",
      "     host_name neighbourhood_group neighbourhood  latitude  longitude  \\\n",
      "0         John            Brooklyn    Kensington  40.64749  -73.97237   \n",
      "1     Jennifer           Manhattan       Midtown  40.75362  -73.98377   \n",
      "2    Elisabeth           Manhattan        Harlem  40.80902  -73.94190   \n",
      "3  LisaRoxanne            Brooklyn  Clinton Hill  40.68514  -73.95976   \n",
      "4        Laura           Manhattan   East Harlem  40.79851  -73.94399   \n",
      "\n",
      "         room_type  price  minimum_nights  number_of_reviews last_review  \\\n",
      "0     Private room    149               1                  9  10/19/2018   \n",
      "1  Entire home/apt    225               1                 45   5/21/2019   \n",
      "2     Private room    150               3                  0         NaN   \n",
      "3  Entire home/apt     89               1                270    7/5/2019   \n",
      "4  Entire home/apt     80              10                  9  11/19/2018   \n",
      "\n",
      "   reviews_per_month  calculated_host_listings_count  availability_365  \n",
      "0               0.21                               6               365  \n",
      "1               0.38                               2               355  \n",
      "2                NaN                               1               365  \n",
      "3               4.64                               1               194  \n",
      "4               0.10                               1                 0  \n",
      "Top 5 busiest hosts:\n",
      "host_id\n",
      "219517861    327\n",
      "Name: count, dtype: int64\n",
      "\n",
      "Top 5 host with the highest average reviews:\n",
      "host_id\n",
      "47621202    602.500000\n",
      "4734398     599.333333\n",
      "2369681     540.000000\n",
      "12949460    488.000000\n",
      "792159      480.000000\n",
      "Name: number_of_reviews, dtype: float64\n"
     ]
    }
   ],
   "source": [
    "# Which hosts are the busiest and based on their reviews?\n",
    "import pandas as pd\n",
    "\n",
    "# Load the dataset\n",
    "df = pd.read_csv('AB_NYC_2019 - AB_NYC_2019.csv')\n",
    "\n",
    "# Check the structure of the dataset\n",
    "print(df.head())\n",
    "\n",
    "# Group by host_id to calculate the number of listings each host has\n",
    "host_listing_counts = df['host_id'].value_counts()\n",
    "\n",
    "# Get the host_ids with the most listings\n",
    "busiest_hosts = host_listing_counts.head(1) \n",
    "# Display the busiest hosts\n",
    "print(\"Top 5 busiest hosts:\")\n",
    "print(busiest_hosts)\n",
    "\n",
    "# Group by host_id to calculate the average review scores for each host\n",
    "host_avg_reviews = df.groupby('host_id')['number_of_reviews'].mean().sort_values(ascending=False)\n",
    "\n",
    "# Get the host_ids with the highest average reviews\n",
    "top_reviewed_hosts = host_avg_reviews.head(5)  \n",
    "# Display the hosts with the highest average reviews\n",
    "print(\"\\nTop 5 host with the highest average reviews:\")\n",
    "print(top_reviewed_hosts)\n",
    "\n",
    "\n"
   ]
  },
  {
   "cell_type": "code",
   "execution_count": 13,
   "metadata": {},
   "outputs": [
    {
     "name": "stdout",
     "output_type": "stream",
     "text": [
      "The neighborhood group with the highest average price is: Manhattan\n"
     ]
    }
   ],
   "source": [
    "#Which neighorhood group has the highest average price?\n",
    "import pandas as pd\n",
    "\n",
    "# Load the dataset\n",
    "df = pd.read_csv('AB_NYC_2019 - AB_NYC_2019.csv')\n",
    "\n",
    "# Group by neighborhood group and calculate the average price for each group\n",
    "average_prices = df.groupby('neighbourhood_group')['price'].mean()\n",
    "\n",
    "# Find the neighborhood group with the highest average price\n",
    "highest_avg_price_group = average_prices.idxmax()\n",
    "\n",
    "print(f\"The neighborhood group with the highest average price is: {highest_avg_price_group}\")\n",
    "\n"
   ]
  },
  {
   "cell_type": "code",
   "execution_count": 16,
   "metadata": {},
   "outputs": [
    {
     "name": "stdout",
     "output_type": "stream",
     "text": [
      "The neighborhood group with the highest total price is: Manhattan\n"
     ]
    }
   ],
   "source": [
    "# Which neighbor hood group has the highest total price?\n",
    "import pandas as pd\n",
    "\n",
    "# Load the dataset\n",
    "df = pd.read_csv(\"AB_NYC_2019 - AB_NYC_2019.csv\")\n",
    "\n",
    "# Group by neighborhood group and calculate the sum of prices for each group\n",
    "grouped_data = df.groupby('neighbourhood_group')['price'].sum()\n",
    "\n",
    "# Find the neighborhood group with the highest total price\n",
    "max_price_neighborhood = grouped_data.idxmax()\n",
    "\n",
    "print(f\"The neighborhood group with the highest total price is: {max_price_neighborhood}\")\n",
    "\n"
   ]
  },
  {
   "cell_type": "code",
   "execution_count": 19,
   "metadata": {},
   "outputs": [
    {
     "name": "stdout",
     "output_type": "stream",
     "text": [
      "Top 5 hosts with the highest total price:\n",
      "host_id\n",
      "219517861    82795\n",
      "107434423    70331\n",
      "156158778    37097\n",
      "205031545    35294\n",
      "30283594     33581\n",
      "Name: price, dtype: int64\n"
     ]
    }
   ],
   "source": [
    "#Which top 5 hosts have the highest total price?\n",
    "import pandas as pd\n",
    "\n",
    "# Load the dataset into a pandas DataFrame\n",
    "df = pd.read_csv('AB_NYC_2019 - AB_NYC_2019.csv')\n",
    "\n",
    "# Group by 'host_id' and sum the 'price' for each host\n",
    "host_total_price = df.groupby('host_id')['price'].sum()\n",
    "\n",
    "# Sort the hosts by total price in descending order and get the top 5\n",
    "top_hosts = host_total_price.sort_values(ascending=False).head(5)\n",
    "\n",
    "# Display the top 5 hosts with the highest total price\n",
    "print(\"Top 5 hosts with the highest total price:\")\n",
    "print(top_hosts)\n",
    "\n"
   ]
  },
  {
   "cell_type": "code",
   "execution_count": 20,
   "metadata": {},
   "outputs": [
    {
     "name": "stdout",
     "output_type": "stream",
     "text": [
      "             id                                       name    host_id  \\\n",
      "8          5203         Cozy Clean Guest Room - Family Apt       7490   \n",
      "94        20913         Charming 1 bed GR8 WBurg LOCATION!      79402   \n",
      "132       30031           NYC artists’ loft with roof deck     129352   \n",
      "174       44221             Financial District Luxury Loft     193722   \n",
      "180       45556      Fort Greene, Brooklyn: Center Bedroom      67778   \n",
      "...         ...                                        ...        ...   \n",
      "29581  22705516         The Quietest Block in Manhattan :)  127740507   \n",
      "30461  23574142                          queens get away!!  176185168   \n",
      "31250  24267706  entire sunshine of the spotless mind room   21074914   \n",
      "32670  25719044                COZY Room for Female Guests   40119874   \n",
      "35014  27759146     Cozy corner near Empire State Building  209549523   \n",
      "\n",
      "        host_name neighbourhood_group              neighbourhood  latitude  \\\n",
      "8       MaryEllen           Manhattan            Upper West Side  40.80178   \n",
      "94     Christiana            Brooklyn               Williamsburg  40.70984   \n",
      "132           Sol            Brooklyn                 Greenpoint  40.73494   \n",
      "174         Coral           Manhattan         Financial District  40.70666   \n",
      "180          Doug            Brooklyn                Fort Greene  40.68863   \n",
      "...           ...                 ...                        ...       ...   \n",
      "29581    Kathleen           Manhattan                     Harlem  40.83102   \n",
      "30461       Janet              Queens                  Laurelton  40.68209   \n",
      "31250      Albert            Brooklyn         Bedford-Stuyvesant  40.68234   \n",
      "32670    Stephany            Brooklyn  Prospect-Lefferts Gardens  40.66242   \n",
      "35014     Mariluz           Manhattan                    Midtown  40.74858   \n",
      "\n",
      "       longitude        room_type  price  minimum_nights  number_of_reviews  \\\n",
      "8      -73.96723     Private room     79               2                118   \n",
      "94     -73.95775  Entire home/apt    100               5                168   \n",
      "132    -73.95030     Private room     50               3                193   \n",
      "174    -74.01374  Entire home/apt    196               3                114   \n",
      "180    -73.97691     Private room     65               2                206   \n",
      "...          ...              ...    ...             ...                ...   \n",
      "29581  -73.94181     Private room     65               2                103   \n",
      "30461  -73.73662     Private room     65               1                119   \n",
      "31250  -73.91318     Private room     49               1                102   \n",
      "32670  -73.94417     Private room     48               1                131   \n",
      "35014  -73.98341      Shared room     62               1                112   \n",
      "\n",
      "      last_review  reviews_per_month  calculated_host_listings_count  \\\n",
      "8      2017-07-21               0.99                               1   \n",
      "94     2018-07-22               1.57                               1   \n",
      "132    2019-05-20               1.86                               1   \n",
      "174    2019-06-20               1.06                               1   \n",
      "180    2019-06-30               1.92                               2   \n",
      "...           ...                ...                             ...   \n",
      "29581  2019-07-07               5.89                               2   \n",
      "30461  2018-12-24               7.79                               1   \n",
      "31250  2019-07-05               6.73                               3   \n",
      "32670  2019-05-31               9.97                               2   \n",
      "35014  2019-06-13              10.77                               3   \n",
      "\n",
      "       availability_365  \n",
      "8                     0  \n",
      "94                    0  \n",
      "132                   0  \n",
      "174                   0  \n",
      "180                   0  \n",
      "...                 ...  \n",
      "29581                 0  \n",
      "30461                 0  \n",
      "31250                 0  \n",
      "32670                 0  \n",
      "35014                 0  \n",
      "\n",
      "[162 rows x 16 columns]\n"
     ]
    }
   ],
   "source": [
    "# Who currently has no (zero) availability with a review count of 100 or more?\n",
    "import pandas as pd\n",
    "\n",
    "# Load the CSV file into a DataFrame\n",
    "df = pd.read_csv('AB_NYC_2019 - AB_NYC_2019.csv')\n",
    "\n",
    "# Filter the DataFrame to include only rows with zero availability and a review count of 100 or more\n",
    "filtered_df = df[(df['availability_365'] == 0) & (df['number_of_reviews'] >= 100)]\n",
    "\n",
    "# Display the results\n",
    "print(filtered_df)\n",
    "\n",
    "\n"
   ]
  },
  {
   "cell_type": "code",
   "execution_count": 21,
   "metadata": {},
   "outputs": [
    {
     "name": "stdout",
     "output_type": "stream",
     "text": [
      "The host with the highest total price is host_id 219517861.\n",
      "The total price is 82795.\n",
      "They are located in the Manhattan neighbourhood group.\n"
     ]
    }
   ],
   "source": [
    "# What host has the highest total of prices and where are they located?\n",
    "import pandas as pd\n",
    "\n",
    "# Load the dataset into a DataFrame\n",
    "df = pd.read_csv('AB_NYC_2019 - AB_NYC_2019.csv')\n",
    "\n",
    "# Group by host_id and calculate the total prices for each host\n",
    "host_prices = df.groupby('host_id')['price'].sum()\n",
    "\n",
    "# Find the host with the highest total price\n",
    "max_host_id = host_prices.idxmax()\n",
    "max_host_total_price = host_prices.max()\n",
    "\n",
    "# Get the location \n",
    "max_host_location = df[df['host_id'] == max_host_id].iloc[0]['neighbourhood_group']\n",
    "\n",
    "# Print the results\n",
    "print(f\"The host with the highest total price is host_id {max_host_id}.\")\n",
    "print(f\"The total price is {max_host_total_price}.\")\n",
    "print(f\"They are located in the {max_host_location} neighbourhood group.\")\n",
    "\n",
    "\n"
   ]
  },
  {
   "cell_type": "code",
   "execution_count": 26,
   "metadata": {},
   "outputs": [
    {
     "name": "stdout",
     "output_type": "stream",
     "text": [
      "Danielle from Queens last received a review on: 7/8/2019\n"
     ]
    }
   ],
   "source": [
    "# When did Danielle from Queens last receive a review?\n",
    "import pandas as pd\n",
    "\n",
    "# Step 2: Load the dataset into a DataFrame\n",
    "df = pd.read_csv('AB_NYC_2019 - AB_NYC_2019.csv')\n",
    "\n",
    "# Step 3: Filter the data for Danielle from Queens\n",
    "danielle_reviews = df[(df['host_name'] == 'Danielle') & (df['neighbourhood_group'] == 'Queens')]\n",
    "\n",
    "# Step 4: Sort the data by review date in descending order\n",
    "sorted_reviews = danielle_reviews.sort_values(by='last_review', ascending=False)\n",
    "\n",
    "# Step 5: Retrieve the date of the last review for Danielle from Queens\n",
    "last_review_date = sorted_reviews.iloc[0]['last_review']\n",
    "\n",
    "print(f\"Danielle from Queens last received a review on: {last_review_date}\")\n",
    "\n"
   ]
  },
  {
   "cell_type": "markdown",
   "metadata": {},
   "source": [
    "## Further Questions\n",
    "\n",
    "1. Which host has the most listings?"
   ]
  },
  {
   "cell_type": "code",
   "execution_count": 27,
   "metadata": {},
   "outputs": [
    {
     "name": "stdout",
     "output_type": "stream",
     "text": [
      "Host with the most listings:\n",
      "         host_id  listings_count\n",
      "34646  219517861             327\n"
     ]
    }
   ],
   "source": [
    "import pandas as pd\n",
    "\n",
    "# Load the dataset into a pandas DataFrame\n",
    "df = pd.read_csv(\"AB_NYC_2019 - AB_NYC_2019.csv\")\n",
    "\n",
    "# Use the 'groupby' function to group the data by the 'host_id' and then count the number of listings for each host\n",
    "host_listings_count = df.groupby('host_id').size().reset_index(name='listings_count')\n",
    "\n",
    "# Find the host with the maximum number of listings\n",
    "max_listings_host = host_listings_count[host_listings_count['listings_count'] == host_listings_count['listings_count'].max()]\n",
    "\n",
    "# Print the result\n",
    "print(\"Host with the most listings:\")\n",
    "print(max_listings_host)\n"
   ]
  },
  {
   "cell_type": "markdown",
   "metadata": {},
   "source": [
    "2. How many listings have completely open availability?"
   ]
  },
  {
   "cell_type": "code",
   "execution_count": 28,
   "metadata": {},
   "outputs": [
    {
     "name": "stdout",
     "output_type": "stream",
     "text": [
      "The number of listings with completely open availability is: 1295\n"
     ]
    }
   ],
   "source": [
    "import pandas as pd\n",
    "\n",
    "# Load the CSV file into a DataFrame\n",
    "df = pd.read_csv('AB_NYC_2019 - AB_NYC_2019.csv')\n",
    "\n",
    "availability_column = 'availability_365'\n",
    "\n",
    "open_availability_listings = df[df[availability_column] == 365]\n",
    "\n",
    "# Get the count of listings with completely open availability\n",
    "num_open_availability_listings = len(open_availability_listings)\n",
    "\n",
    "print(f\"The number of listings with completely open availability is: {num_open_availability_listings}\")\n"
   ]
  },
  {
   "cell_type": "markdown",
   "metadata": {},
   "source": [
    "3. What room_types have the highest review numbers?"
   ]
  },
  {
   "cell_type": "code",
   "execution_count": 30,
   "metadata": {},
   "outputs": [
    {
     "name": "stdout",
     "output_type": "stream",
     "text": [
      "\n",
      " The room type with the highest average number of reviews is 'Private room' with an average of 24.11 reviews.\n"
     ]
    }
   ],
   "source": [
    "import pandas as pd\n",
    "\n",
    "# Load the dataset into a pandas DataFrame\n",
    "df = pd.read_csv('AB_NYC_2019 - AB_NYC_2019.csv')\n",
    "\n",
    "# Group the data by room type and calculate the mean of the reviews_per_month for each group\n",
    "room_type_reviews = df.groupby('room_type')['number_of_reviews'].mean()\n",
    "\n",
    "# Find the room type with the highest average reviews\n",
    "max_review_room_type = room_type_reviews.idxmax()\n",
    "max_review_count = room_type_reviews.max()\n",
    "\n",
    "# Print the result\n",
    "print(f\"\\n The room type with the highest average number of reviews is '{max_review_room_type}' with an average of {max_review_count:.2f} reviews.\")\n"
   ]
  },
  {
   "cell_type": "markdown",
   "metadata": {},
   "source": [
    "# Final Conclusion\n",
    "\n",
    "In this cell, write your final conclusion for each of the questions asked.\n",
    "\n",
    "Also, if you uncovered some more details that were not asked above, please discribe them here.\n",
    "\n",
    "-- Add your conclusion --"
   ]
  },
  {
   "cell_type": "code",
   "execution_count": null,
   "metadata": {},
   "outputs": [],
   "source": [
    "#Business Report Summary: Analysis of Airbnb Data\n",
    "\n",
    "#1. Neighborhood Groups:\n",
    "\n",
    "#Number of neighborhood groups: 5\n",
    "#Manhattan is the most common neighborhood group, with 21,661 listings.\n",
    "#2. Popular Room Types in Manhattan:\n",
    "\n",
    "#Contrary to expectations, private rooms are not the most popular in Manhattan based on the analysis.\n",
    "#3. Busiest Hosts and Reviews:\n",
    "\n",
    "#Top 5 hosts with the highest average reviews:\n",
    "#Host ID 47621202: 602.5\n",
    "#Host ID 4734398: 599.33\n",
    "#Host ID 2369681: 540.0\n",
    "#Host ID 12949460: 488.0\n",
    "#Host ID 792159: 480.0\n",
    "#4. Highest Total Prices:\n",
    "\n",
    "#Neighborhood group with the highest total price: Manhattan\n",
    "#Top 5 hosts with the highest total price:\n",
    "#Host ID 219517861: $82,795\n",
    "#Host ID 107434423: $70,331\n",
    "#Host ID 156158778: $37,097\n",
    "#Host ID 205031545: $35,294\n",
    "#Host ID 30283594: $33,581\n",
    "#The host with the highest total price is Host ID 219517861, located in the Manhattan neighborhood group.\n",
    "#5. Availability:\n",
    "\n",
    "#Number of listings with completely open availability: 1,295.\n",
    "#6. Reviews and Last Review Date:\n",
    "\n",
    "#Danielle from Queens last received a review on 7/8/2019.\n",
    "#7. Host with the Most Listings:\n",
    "\n",
    "#Host ID 34646 (Host ID 219517861) has the most listings with a count of 327.\n",
    "#8. Room Type and Average Reviews:\n",
    "\n",
    "#The room type with the highest average number of reviews is 'Private room' with an average of 24.11 reviews.\n",
    "\n",
    "\n",
    "#This summary provides valuable insights into the distribution of neighborhood groups, popular room types,\n",
    "#busiest hosts, pricing trends, availability, \n",
    "#and key statistics about hosts and their listings on Airbnb. These findings can inform business strategies and decision-making for stakeholders in the short-term rental industry.\n",
    "\n",
    "\n",
    "\n",
    "\n",
    "\n"
   ]
  }
 ],
 "metadata": {
  "kernelspec": {
   "display_name": "Python 3 (ipykernel)",
   "language": "python",
   "name": "python3"
  },
  "language_info": {
   "codemirror_mode": {
    "name": "ipython",
    "version": 3
   },
   "file_extension": ".py",
   "mimetype": "text/x-python",
   "name": "python",
   "nbconvert_exporter": "python",
   "pygments_lexer": "ipython3",
   "version": "3.11.5"
  }
 },
 "nbformat": 4,
 "nbformat_minor": 2
}
